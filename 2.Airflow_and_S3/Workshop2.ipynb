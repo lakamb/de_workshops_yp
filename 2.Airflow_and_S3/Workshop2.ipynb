{
 "cells": [
  {
   "cell_type": "markdown",
   "id": "95aedb0f",
   "metadata": {
    "pycharm": {
     "name": "#%% md\n"
    }
   },
   "source": [
    "# Workshop №2"
   ]
  },
  {
   "cell_type": "markdown",
   "id": "3319d009",
   "metadata": {
    "pycharm": {
     "name": "#%% md\n"
    }
   },
   "source": [
    "## Черновик того, что должно оказаться затем в Airflow"
   ]
  },
  {
   "cell_type": "markdown",
   "id": "4c43a993",
   "metadata": {
    "pycharm": {
     "name": "#%% md\n"
    }
   },
   "source": [
    "### Содержание DAGа\n",
    "\n",
    "1. [Первая таска по забору данных от API](#first)\n",
    "2. [Вторая таска - сенсор по готовности даннных](#second)\n",
    "3. [Третья таска - brunch оператор по выбору типа загрузки](#third)\n",
    "4. [Четвертая таска - загрузка обработанных данных](#fourth)"
   ]
  },
  {
   "cell_type": "code",
   "execution_count": null,
   "id": "5bcba7d4",
   "metadata": {
    "pycharm": {
     "name": "#%%\n"
    }
   },
   "outputs": [],
   "source": [
    "import logging as log\n",
    "import requests\n",
    "import boto3\n",
    "import json\n",
    "import pandas as pd\n",
    "from typing import Optional\n",
    "from pyarrow import fs"
   ]
  },
  {
   "cell_type": "markdown",
   "id": "d34dae31",
   "metadata": {
    "pycharm": {
     "name": "#%% md\n"
    }
   },
   "source": [
    "---\n",
    "### Наш первая таска: PythonOperator по загрузке данных в S3<a id=\"first\"></a>\n",
    "---"
   ]
  },
  {
   "cell_type": "markdown",
   "id": "d6c832a5",
   "metadata": {
    "pycharm": {
     "name": "#%% md\n"
    }
   },
   "source": [
    "#### Функция получения данныx от API"
   ]
  },
  {
   "cell_type": "markdown",
   "id": "ef5eb24c",
   "metadata": {
    "pycharm": {
     "name": "#%% md\n"
    }
   },
   "source": [
    "https://exchangerate.host/#/docs - ссылка на апишку"
   ]
  },
  {
   "cell_type": "markdown",
   "id": "bd019893",
   "metadata": {
    "pycharm": {
     "name": "#%% md\n"
    }
   },
   "source": [
    "Посмотрим, какие данные нам отдает API за текущий день"
   ]
  },
  {
   "cell_type": "code",
   "execution_count": null,
   "id": "4e085dfe",
   "metadata": {
    "pycharm": {
     "name": "#%%\n"
    }
   },
   "outputs": [],
   "source": [
    "response = requests.get('https://api.exchangerate.host/latest',\n",
    "                        params={'base': 'USD', 'symbols': 'RUB'})\n",
    "data = response.json()\n",
    "data"
   ]
  },
  {
   "cell_type": "markdown",
   "id": "44c79bca",
   "metadata": {
    "pycharm": {
     "name": "#%% md\n"
    }
   },
   "source": [
    "За интервал времени"
   ]
  },
  {
   "cell_type": "code",
   "execution_count": null,
   "id": "c25e73b4",
   "metadata": {
    "pycharm": {
     "name": "#%%\n"
    }
   },
   "outputs": [],
   "source": [
    "response = requests.get('https://api.exchangerate.host/timeseries?start_date=2022-03-01&end_date=2022-03-10',\n",
    "                        params={'base': 'USD', 'symbols': 'RUB'})\n",
    "data = response.json()\n",
    "data"
   ]
  },
  {
   "cell_type": "markdown",
   "id": "008a3133",
   "metadata": {
    "pycharm": {
     "name": "#%% md\n"
    }
   },
   "source": [
    "Получается функция, которая может забирать данные за сегодняший день и может забирать историчные данные"
   ]
  },
  {
   "cell_type": "code",
   "execution_count": null,
   "id": "bcfbec9c",
   "metadata": {
    "pycharm": {
     "name": "#%%\n"
    }
   },
   "outputs": [],
   "source": [
    "def get_currency_rate_info(source_currency: str, target_currency: str, is_initial: bool = False,\n",
    "                           start_date: Optional[str] = None,\n",
    "                           end_date: Optional[str] = None) -> dict:\n",
    "    \"\"\"\n",
    "    Get currency rate information about pair\n",
    "\n",
    "    :param source_currency: source currency\n",
    "    :param target_currency: target currency\n",
    "    :param is_initial: upload historical data. Default: False\n",
    "    :param start_date: start date for uploading data. Default: None\n",
    "    :param end_date: end date for uploading data. Default: None\n",
    "    \n",
    "    :return data: information about rate of pair\n",
    "    \"\"\"\n",
    "    params: dict = {'base': source_currency, 'symbols': target_currency}\n",
    "\n",
    "    if is_initial:\n",
    "        url: str = f'https://api.exchangerate.host/timeseries?start_date={start_date}&end_date={end_date}'\n",
    "    else:\n",
    "        url: str = 'https://api.exchangerate.host/latest'\n",
    "\n",
    "    try:\n",
    "        response = requests.get(url, params=params)\n",
    "        data = response.json()\n",
    "    except Exception as ex:\n",
    "        print(f\"Unable get currency rate info. Error: {ex}\")\n",
    "        raise ex\n",
    "\n",
    "    return data"
   ]
  },
  {
   "cell_type": "markdown",
   "id": "4b94619c",
   "metadata": {
    "pycharm": {
     "name": "#%% md\n"
    }
   },
   "source": [
    "#### Функция создания клиента для подключения к S3"
   ]
  },
  {
   "cell_type": "code",
   "execution_count": null,
   "id": "22288a19",
   "metadata": {
    "pycharm": {
     "name": "#%%\n"
    }
   },
   "outputs": [],
   "source": [
    "def init_s3_client(s3_host: str, s3_access_key: str, s3_secret_key: str) -> boto3.client:\n",
    "    \"\"\"\n",
    "    Initialization S3 client\n",
    "\n",
    "    :param s3_host: host\n",
    "    :param s3_access_key: access key\n",
    "    :param s3_secret_key: secret key\n",
    "    \n",
    "    :return client: S3 client\n",
    "    \"\"\"\n",
    "    client = boto3.client(\n",
    "            's3',\n",
    "            region_name='us-east-1',\n",
    "            use_ssl=True,\n",
    "            endpoint_url=s3_host,\n",
    "            aws_access_key_id=s3_access_key,\n",
    "            aws_secret_access_key=s3_secret_key)\n",
    "    return client"
   ]
  },
  {
   "cell_type": "markdown",
   "id": "67518956",
   "metadata": {
    "pycharm": {
     "name": "#%% md\n"
    }
   },
   "source": [
    "Попробуем получить данные и положить их в S3"
   ]
  },
  {
   "cell_type": "code",
   "execution_count": null,
   "id": "cab091b2",
   "metadata": {
    "pycharm": {
     "name": "#%%\n"
    }
   },
   "outputs": [],
   "source": [
    "raw_data = get_currency_rate_info('USD','RUB')\n",
    "s3_client = init_s3_client('http://127.0.0.1:9000', 'minioadmin', 'minioadmin')\n",
    "converted_raw_data = json.dumps(raw_data) #сериализуем наш словарь в жисон строку\n",
    "\n",
    "resp = s3_client.put_object(Bucket='practicum', Key='data/exchange_rate/raw/usd_rub/file.json', Body=converted_raw_data)\n",
    "status_code = resp.get('ResponseMetadata').get('HTTPStatusCode')\n",
    "\n",
    "if status_code == 200:\n",
    "    print('File uploaded successfully')\n",
    "else:\n",
    "    print('File not uploaded')\n"
   ]
  },
  {
   "cell_type": "markdown",
   "id": "61e78f9e",
   "metadata": {
    "pycharm": {
     "name": "#%% md\n"
    }
   },
   "source": [
    "На этом моменте наш оператор заканчивается"
   ]
  },
  {
   "cell_type": "markdown",
   "id": "4cd16865",
   "metadata": {
    "pycharm": {
     "name": "#%% md\n"
    }
   },
   "source": [
    "---\n",
    "### Наша вторая таска: S3 sensor - проверяет данные в S3<a id=\"second\"></a>\n",
    "---"
   ]
  },
  {
   "cell_type": "markdown",
   "id": "6269d470",
   "metadata": {
    "pycharm": {
     "name": "#%% md\n"
    }
   },
   "source": [
    "Представим, что не мы складываем себе raw данные, а складывает к нам в Data Lake соседняя команда, поэтому нам понадобится сенсор, чтобы проверять есть ли данные или нет для дальнейшей обработки"
   ]
  },
  {
   "cell_type": "markdown",
   "id": "1f001747",
   "metadata": {
    "pycharm": {
     "name": "#%% md\n"
    }
   },
   "source": [
    "Можно воспользоваться готовым решением в [Airflow](https://airflow.apache.org/docs/apache-airflow-providers-amazon/stable/_api/airflow/providers/amazon/aws/sensors/s3/index.html#module-airflow.providers.amazon.aws.sensors.s3), сейчас есть на любой вкус операторы, сенсоры и прочее. Вот, например, для S3 - "
   ]
  },
  {
   "cell_type": "markdown",
   "id": "e1f486c6",
   "metadata": {
    "pycharm": {
     "name": "#%% md\n"
    }
   },
   "source": [
    "Но мы напишем свой, потому что мы можем:)\n",
    "\n",
    "*Логика будет следующая:*\n",
    "Создадим клиент для S3 и залистим все объекты по нашему префиксу"
   ]
  },
  {
   "cell_type": "code",
   "execution_count": null,
   "id": "6e0c6be3",
   "metadata": {
    "pycharm": {
     "name": "#%%\n"
    }
   },
   "outputs": [],
   "source": [
    "client = init_s3_client('http://127.0.0.1:9000', 'minioadmin', 'minioadmin')\n",
    "bucket_objects = client.list_objects(Bucket='practicum', Prefix='data/exchange_rate/raw/usd_rub/file.json')\n",
    "bucket_objects"
   ]
  },
  {
   "cell_type": "markdown",
   "id": "009df230",
   "metadata": {
    "pycharm": {
     "name": "#%% md\n"
    }
   },
   "source": [
    "Надо выбрать условие, по которому будет понятно, есть ли данные или нет, для этого на поможет поле **Contents**"
   ]
  },
  {
   "cell_type": "code",
   "execution_count": null,
   "id": "cf06a755",
   "metadata": {
    "pycharm": {
     "name": "#%%\n"
    }
   },
   "outputs": [],
   "source": [
    "bucket_objects.get('Contents')"
   ]
  },
  {
   "cell_type": "markdown",
   "id": "cc4252a9",
   "metadata": {
    "pycharm": {
     "name": "#%% md\n"
    }
   },
   "source": [
    "#### Будущий кусок функции для проверки данных в S3"
   ]
  },
  {
   "cell_type": "code",
   "execution_count": null,
   "id": "6fb359ec",
   "metadata": {
    "pycharm": {
     "name": "#%%\n"
    }
   },
   "outputs": [],
   "source": [
    "client = init_s3_client('http://127.0.0.1:9000', 'minioadmin', 'minioadmin')\n",
    "\n",
    "bucket_objects = client.list_objects(Bucket='practicum', Prefix='data/exchange_rate/raw/usd_rub/file.json')\n",
    "if bucket_objects.get('Contents'):\n",
    "    print(f'Data were found')\n",
    "else:\n",
    "    print(f'Data not found')"
   ]
  },
  {
   "cell_type": "markdown",
   "id": "4a4c11a4",
   "metadata": {
    "pycharm": {
     "name": "#%% md\n"
    }
   },
   "source": [
    "---\n",
    "### Наша третья таска: BrunchPythonOperator - она просто выбирает между тасками<a id=\"third\"></a>\n",
    "---"
   ]
  },
  {
   "cell_type": "markdown",
   "id": "8f3f0f07",
   "metadata": {
    "pycharm": {
     "name": "#%% md\n"
    }
   },
   "source": [
    "Чтобы продемонстрировать вам brunch operator представим, что нам нужно выбирать между архивной прогрузкой или нет, данный оператор будет нам помогать в этом. Если наш любимый флаг is_initial - True, значит будет архивная таска запускаться, если False - значит ежедневная прогрузка будет"
   ]
  },
  {
   "cell_type": "markdown",
   "id": "b23d663c",
   "metadata": {
    "pycharm": {
     "name": "#%% md\n"
    }
   },
   "source": [
    "---\n",
    "### Наша четвертая и пятая таска: PythonOperator - initial и no initial<a id=\"fourth\"></a>\n",
    "---"
   ]
  },
  {
   "cell_type": "markdown",
   "id": "010851ef",
   "metadata": {
    "pycharm": {
     "name": "#%% md\n"
    }
   },
   "source": [
    "Получим данные из raw слоя:"
   ]
  },
  {
   "cell_type": "code",
   "execution_count": null,
   "id": "94dce5be",
   "metadata": {
    "pycharm": {
     "name": "#%%\n"
    }
   },
   "outputs": [],
   "source": [
    "s3_client = init_s3_client('http://127.0.0.1:9000', 'minioadmin', 'minioadmin')\n",
    "obj = s3_client.get_object(Bucket='practicum', Key='data/exchange_rate/raw/usd_rub/file.json')\n",
    "raw_object_from_s3 = json.loads(obj['Body'].read())\n",
    "raw_object_from_s3"
   ]
  },
  {
   "cell_type": "markdown",
   "id": "64206bfe",
   "metadata": {
    "pycharm": {
     "name": "#%% md\n"
    }
   },
   "source": [
    "Нашим DSам нужна только дата и курс, остальные поля не нужны"
   ]
  },
  {
   "cell_type": "code",
   "execution_count": null,
   "id": "a672511b",
   "metadata": {
    "pycharm": {
     "name": "#%%\n"
    }
   },
   "outputs": [],
   "source": [
    "is_initial = False\n",
    "parsed_data = []\n",
    "if not is_initial:\n",
    "    parsed_data.append([raw_object_from_s3['date'], raw_object_from_s3['rates']['RUB']])\n",
    "else:\n",
    "    for key, value in raw_object_from_s3['rates'].items():\n",
    "        parsed_data.append([key, value['RUB']])\n",
    "parsed_data"
   ]
  },
  {
   "cell_type": "markdown",
   "id": "3dd78e3a",
   "metadata": {
    "pycharm": {
     "name": "#%% md\n"
    }
   },
   "source": [
    "Теперь нам это нужно прогрузить в слой parsed, но на этот раз, не в жисонах будем складывать, а в паркетах"
   ]
  },
  {
   "cell_type": "code",
   "execution_count": null,
   "id": "8cefd880",
   "metadata": {
    "pycharm": {
     "name": "#%%\n"
    }
   },
   "outputs": [],
   "source": [
    "s3_fs = fs.S3FileSystem(endpoint_override='http://127.0.0.1:9000', access_key='minioadmin', secret_key='minioadmin')\n",
    "df = pd.DataFrame(parsed_data, columns = ['date', 'rate'])\n",
    "df.to_parquet(\"practicum/data/parsed/my_file.parquet\", engine='pyarrow', filesystem=s3_fs)"
   ]
  }
 ],
 "metadata": {
  "kernelspec": {
   "display_name": "Python 3 (ipykernel)",
   "language": "python",
   "name": "python3"
  },
  "language_info": {
   "codemirror_mode": {
    "name": "ipython",
    "version": 3
   },
   "file_extension": ".py",
   "mimetype": "text/x-python",
   "name": "python",
   "nbconvert_exporter": "python",
   "pygments_lexer": "ipython3",
   "version": "3.8.9"
  }
 },
 "nbformat": 4,
 "nbformat_minor": 5
}